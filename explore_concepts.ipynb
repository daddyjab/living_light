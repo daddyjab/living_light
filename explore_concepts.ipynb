{
 "cells": [
  {
   "cell_type": "markdown",
   "metadata": {},
   "source": [
    "# Explore Concepts needed for Lighting Controller"
   ]
  },
  {
   "cell_type": "code",
   "execution_count": 99,
   "metadata": {},
   "outputs": [
    {
     "ename": "ModuleNotFoundError",
     "evalue": "No module named 'digitalio'",
     "output_type": "error",
     "traceback": [
      "\u001b[1;31m---------------------------------------------------------------------------\u001b[0m",
      "\u001b[1;31mModuleNotFoundError\u001b[0m                       Traceback (most recent call last)",
      "\u001b[1;32m~\\AppData\\Local\\Temp/ipykernel_27216/2501029522.py\u001b[0m in \u001b[0;36m<module>\u001b[1;34m\u001b[0m\n\u001b[0;32m     10\u001b[0m \u001b[1;33m\u001b[0m\u001b[0m\n\u001b[0;32m     11\u001b[0m \u001b[1;32mfrom\u001b[0m \u001b[0mdisplay_helper\u001b[0m \u001b[1;32mimport\u001b[0m \u001b[1;33m*\u001b[0m\u001b[1;33m\u001b[0m\u001b[1;33m\u001b[0m\u001b[0m\n\u001b[1;32m---> 12\u001b[1;33m \u001b[1;32mfrom\u001b[0m \u001b[0mcontroller_helper\u001b[0m \u001b[1;32mimport\u001b[0m \u001b[0mLightingController\u001b[0m\u001b[1;33m\u001b[0m\u001b[1;33m\u001b[0m\u001b[0m\n\u001b[0m",
      "\u001b[1;32md:\\Users\\Jeff\\My Documents\\GitHub\\living_light\\controller_helper.py\u001b[0m in \u001b[0;36m<module>\u001b[1;34m\u001b[0m\n\u001b[0;32m      6\u001b[0m \u001b[1;33m\u001b[0m\u001b[0m\n\u001b[0;32m      7\u001b[0m \u001b[1;31m# Device related dependencies\u001b[0m\u001b[1;33m\u001b[0m\u001b[1;33m\u001b[0m\u001b[1;33m\u001b[0m\u001b[0m\n\u001b[1;32m----> 8\u001b[1;33m \u001b[1;32mimport\u001b[0m \u001b[0mdigitalio\u001b[0m\u001b[1;33m\u001b[0m\u001b[1;33m\u001b[0m\u001b[0m\n\u001b[0m\u001b[0;32m      9\u001b[0m \u001b[1;32mimport\u001b[0m \u001b[0mboard\u001b[0m\u001b[1;33m\u001b[0m\u001b[1;33m\u001b[0m\u001b[0m\n\u001b[0;32m     10\u001b[0m \u001b[1;32mimport\u001b[0m \u001b[0mneopixel\u001b[0m\u001b[1;33m\u001b[0m\u001b[1;33m\u001b[0m\u001b[0m\n",
      "\u001b[1;31mModuleNotFoundError\u001b[0m: No module named 'digitalio'"
     ]
    }
   ],
   "source": [
    "%matplotlib inline\n",
    "\n",
    "import numpy as np\n",
    "from PIL import Image, ImageDraw, ImageColor\n",
    "import matplotlib.pyplot as plt\n",
    "import matplotlib.image as mpimg\n",
    "from IPython.display import HTML\n",
    "from IPython.display import Image as disp_Image\n",
    "import colorsys\n",
    "\n",
    "from display_helper import *\n",
    "\n",
    "# from controller_helper import LightingController\n"
   ]
  },
  {
   "cell_type": "code",
   "execution_count": null,
   "metadata": {},
   "outputs": [],
   "source": []
  },
  {
   "cell_type": "code",
   "execution_count": 94,
   "metadata": {},
   "outputs": [],
   "source": [
    "class Model():\n",
    "    \"\"\"\n",
    "    Class representing the sides and top of the model and their LEDs\n",
    "    \"\"\"\n",
    "    def __init__(self):\n",
    "\n",
    "        # Model Configuration (including some attributes for the simulated model)\n",
    "        self.MODEL_INTERIOR_COLOR = 'rgb(128,128,128)'\n",
    "        self.MODEL_OUTLINE_COLOR = 'rgb(0,0,0)'\n",
    "        self.MODEL_CONFIG = {\n",
    "            'Left': {\n",
    "                # Real and Simulated: Arrangement of LEDs in this model (real or simulated)\n",
    "                'leds': { 'rows': 5, 'cols': 6 },\n",
    "\n",
    "                # Real: Mapping of the rows/cols and physical LED numbers on the LED Strip\n",
    "                #       Set as a np.array of shape defined by leds => rows/cols above\n",
    "                'led_ids': None,\n",
    "\n",
    "                # Simulated: Dimensions of this component in the simulated model\n",
    "                'bbox': (0,200, 200,400),\n",
    "                },\n",
    "\n",
    "            'Right': {\n",
    "                # Arrangement of LEDs in this model (real or simulated)\n",
    "                'leds': { 'rows': 5, 'cols': 6 },\n",
    "\n",
    "                # Real: Mapping of the rows/cols and physical LED numbers on the LED Strip\n",
    "                #       Set as a np.array of shape defined by leds => rows/cols above\n",
    "                'led_ids': None,\n",
    "\n",
    "                # Simulated: Dimensions of this component in the simulated model\n",
    "                'bbox': (400,200, 600,400),\n",
    "                },\n",
    "\n",
    "            'Top': {\n",
    "                # Arrangement of LEDs in this model (real or simulated)\n",
    "                'leds': { 'rows': 2, 'cols': 3 },\n",
    "\n",
    "                # Real: Mapping of the rows/cols and physical LED numbers on the LED Strip\n",
    "                #       Set as a np.array of shape defined by leds => rows/cols above\n",
    "                'led_ids': None,\n",
    "\n",
    "                # Simulated: Dimensions of this component in the simulated model\n",
    "                'bbox': (200,0, 400,200),\n",
    "                }\n",
    "        }\n",
    "\n",
    "        # Model image\n",
    "        self.model = None\n",
    "\n",
    "        # Light Profiles\n",
    "        # http://planetpixelemporium.com/tutorialpages/light.html\n",
    "        self.LIGHT_PROFILE = {\n",
    "            'Candle': { 'temp': 1900, 'rgb': (255, 147, 41) },\n",
    "            '40W Tungsten': { 'temp': 2600, 'rgb': (255, 197, 143) },\n",
    "            '100W Tungsten': { 'temp': 2850, 'rgb': (255, 214, 170) },\n",
    "            'Halogen': { 'temp': 3200, 'rgb': (255, 241, 224) },\n",
    "            'Carbon Arc': { 'temp': 5200, 'rgb': (255, 250, 244) },\n",
    "            'High Noon Sun': { 'temp': 5400, 'rgb': (255, 255, 251) },\n",
    "            'Direct Sunlight': { 'temp': 6000, 'rgb': (255, 255, 255) },\n",
    "            'Overcast Sky': { 'temp': 7000, 'rgb': (201, 226, 255) },\n",
    "            'Clear Blue Sky': { 'temp': 20000, 'rgb': (64, 156, 255) },\n",
    "        }\n",
    "\n",
    "        # Lighting Scenarios\n",
    "        self.LIGHT_SCENARIO = {\n",
    "            'Idle': None,\n",
    "            'Standard': None,\n",
    "            'Energy': None,\n",
    "        }\n",
    "\n",
    "\n",
    "    # ***********************************************\n",
    "    # Methods to Simulate LED Behavior in the Model\n",
    "    # ***********************************************\n",
    "    def draw_model_sides_top(self):\n",
    "        \"\"\"\n",
    "        Draw the main components of the model: sides, top\n",
    "        \"\"\"\n",
    "        # Create background enclosure for the model\n",
    "        self.model = Image.new( \"RGB\", (600,400), color=(10,10,10) )\n",
    "\n",
    "        # Prepare to draw objects\n",
    "        model_draw = ImageDraw.Draw(self.model)\n",
    "\n",
    "        for c in self.MODEL_CONFIG:\n",
    "            model_draw.rectangle( self.MODEL_CONFIG[c]['bbox'], fill=self.MODEL_INTERIOR_COLOR, outline=self.MODEL_OUTLINE_COLOR )\n",
    "\n",
    "    def draw_model_leds(self, led_colors:dict=None ):\n",
    "        \"\"\"\n",
    "        Draw LEDs on the model based upon the configurations\n",
    "        of the model\n",
    "        @TODO: and the color for each LED\n",
    "        \"\"\"\n",
    "\n",
    "        # Prepare to draw objects\n",
    "        model_draw = ImageDraw.Draw(self.model)\n",
    "\n",
    "        # LEDs\n",
    "        def _draw_led( xy, color='rgb(0,0,0)' ):\n",
    "            \"\"\"\n",
    "            Draw one LED\n",
    "            \"\"\"\n",
    "            LED_RADIUS = 5\n",
    "            model_draw.ellipse( [ (xy[0]-LED_RADIUS,xy[1]-LED_RADIUS), (xy[0]+LED_RADIUS,xy[1]+LED_RADIUS)], fill=color, outline='rgb(0,0,0)' )\n",
    "\n",
    "        for c in self.MODEL_CONFIG:\n",
    "\n",
    "            # Determine the width and height of this component\n",
    "            bbox = self.MODEL_CONFIG[c]['bbox']\n",
    "            w = bbox[2] - bbox[0]\n",
    "            h = bbox[3] - bbox[1]\n",
    "\n",
    "            # How many columns and rows of LEDs need to fit in this space\n",
    "            n_cols = self.MODEL_CONFIG[c]['leds']['cols']\n",
    "            n_rows = self.MODEL_CONFIG[c]['leds']['rows']\n",
    "\n",
    "            # Determine the number of pixels per LED,\n",
    "            # Adding 2 to the count so that LEDs will not be placed on an edge\n",
    "            pix_per_col = w // (n_cols + 1)\n",
    "            pix_per_row = h // (n_rows + 1)\n",
    "            # print(c, bbox, w, h, n_cols, n_rows, pix_per_col, pix_per_row)\n",
    "\n",
    "            # Draw the LEDs, starting with index 1 (to avoid an edge)\n",
    "            for col in range(1,n_cols+1):\n",
    "                for row in range(1, n_rows+1):\n",
    "\n",
    "                    # Draw the LED using the specified color\n",
    "                    if led_colors:\n",
    "                        _draw_led( ( pix_per_col*col + bbox[0], pix_per_row*row + bbox[1] ), color=led_colors[c][row-1][col-1] )\n",
    "                    else:\n",
    "                        _draw_led( ( pix_per_col*col + bbox[0], pix_per_row*row + bbox[1] ) )\n",
    "\n",
    "    def light_profile( self, source=None, temp=None ):\n",
    "        \"\"\"\n",
    "        Set RGB color values based upon light source or light temperature\n",
    "\n",
    "        Reference:\n",
    "        * http://planetpixelemporium.com/tutorialpages/light.html\n",
    "        \"\"\"\n",
    "\n",
    "        if (source is not None) and (temp is None):\n",
    "            return { source: self.LIGHT_PROFILE[source] }\n",
    "\n",
    "        if (source is None) and (temp is not None):\n",
    "            for source in self.LIGHT_PROFILE:\n",
    "                if temp == self.LIGHT_PROFILE[source]['temp']:\n",
    "                    return { source: self.LIGHT_PROFILE[source] }\n",
    "\n",
    "        return self.LIGHT_PROFILE\n",
    "\n",
    "\n",
    "    # Create arrays representing the LED colors\n",
    "    def map_led_brightness_to_rgb_string(self, brightness_array=None, c_profile='Direct Sunlight' ) -> np.ndarray:\n",
    "        \"\"\"\n",
    "        Maps an array of scalar values in the range [0.0 to 1.0] and maps it to RGB value strings\n",
    "        that are consistent with the specified or default color profile.\n",
    "        The mapping is done by:\n",
    "        1. Converting the color profile base RGB to the Hue, Lightness, Saturation (HLS) color scheme\n",
    "        2. Then adjusting only the Lightness factor proportional to the brightness value in the input array\n",
    "        3. Doing the above for each element in the array\n",
    "        \"\"\"\n",
    "\n",
    "        # Create a numpy array of the same dimension as the input brightness array\n",
    "        led_array = np.full_like( brightness_array, fill_value=np.nan )\n",
    "\n",
    "        # Clip the values in the brightness array to the range [0.0 to 1.0]\n",
    "        b_array = np.clip( brightness_array, 0.0, 1.0 )\n",
    "\n",
    "        # Get the base HLS values that correspond to the color profile RGB\n",
    "        h_prof, l_prof, s_prof = rgb_int_to_hls( np.array(self.LIGHT_PROFILE[c_profile]['rgb']) )\n",
    "\n",
    "        # Helper function to map \n",
    "        def _helper_brightness_to_rgb_in_profile( b:float=None ) -> tuple:\n",
    "            # Adjust the lightness factor based upon the brightness value [0.0 to 1.0]\n",
    "            rgb = hls_to_rgb_int( (h_prof, b*l_prof, s_prof) )\n",
    "            return rgb_to_string( rgb )\n",
    "\n",
    "        # Perform a vector operation on all of the input array values\n",
    "        led_array = np.vectorize( _helper_brightness_to_rgb_in_profile )( brightness_array )\n",
    "\n",
    "        # Return the array of LED RGB string values\n",
    "        return led_array        \n",
    "\n",
    "\n",
    "    def led_test_pattern(self, pattern='Range', color_profile='Direct Sunlight' ) -> np.ndarray:\n",
    "        \"\"\"\n",
    "        Create a test pattern of LED colors (dictionary of arrays containing RGB strings)\n",
    "\n",
    "        * pattern:\n",
    "            'Range': LEDs are set to display the full range of brightness for the specified color profile [default]\n",
    "            'Random': Each LED set to a random brightness for the specified color profile\n",
    "            'On': All LEDs set to maximum brightness for the specified color profile\n",
    "            'Off': All LEDs set to the minimum brightness for the specified color profile\n",
    "\n",
    "        * color_profile: Color Profile selection from self.LIGHT_PROFILE [default: 'Direct Sunlight']\n",
    "        \"\"\"\n",
    "        led_colors = {}\n",
    "        for c in self.MODEL_CONFIG:\n",
    "\n",
    "            # Component LED config\n",
    "            rows = self.MODEL_CONFIG[c]['leds']['rows']\n",
    "            cols = self.MODEL_CONFIG[c]['leds']['cols']\n",
    "\n",
    "            # Create an array of the proper dimensions for this component of the model\n",
    "            b_arr = np.zeros( (rows,cols) )\n",
    "\n",
    "            if pattern.lower() == 'random':\n",
    "                # Set each LED to a random brightness\n",
    "                b_arr = np.random.rand( rows, cols )\n",
    "\n",
    "            elif pattern.lower() == 'on':\n",
    "                # Set all LEDs to on / maximum brightness\n",
    "                b_arr = np.ones( (rows,cols) )\n",
    "\n",
    "            elif pattern.lower() == 'off':\n",
    "                # Set all LEDs to off / minimium brightness\n",
    "                # Note: No additional action required for this\n",
    "                pass\n",
    "\n",
    "            else:\n",
    "                # Set the LEDs to show the full range of brightness from 0.0 to 1.0 \n",
    "                for row_ix in range(rows):\n",
    "                    for col_ix in range(cols):\n",
    "                        b_arr[row_ix,col_ix] = float(row_ix)/(rows-1) if rows > 1 else 1.0\n",
    "                        b_arr[row_ix,col_ix] *= float(col_ix)/(cols-1) if cols > 1 else 1.0\n",
    "\n",
    "            # get the LED colors for this component based upon the specified Color Profile\n",
    "            led_colors[c] = self.map_led_brightness_to_rgb_string( b_arr, color_profile )\n",
    "\n",
    "        return led_colors\n"
   ]
  },
  {
   "cell_type": "code",
   "execution_count": 95,
   "metadata": {},
   "outputs": [],
   "source": [
    "# Create arrays representing the LED colors\n",
    "def fill_leds( rgb:tuple ):\n",
    "    led_cols = {}\n",
    "    for c in m.MODEL_CONFIG:\n",
    "        led_cols[c] = np.full( (m.MODEL_CONFIG[c]['leds']['rows'], m.MODEL_CONFIG[c]['leds']['cols']), fill_value=rgb_to_string( rgb ) ) \n",
    "\n",
    "    return led_cols"
   ]
  },
  {
   "cell_type": "code",
   "execution_count": 96,
   "metadata": {},
   "outputs": [
    {
     "data": {
      "text/plain": [
       "{'Candle': {'temp': 1900, 'rgb': (255, 147, 41)},\n",
       " '40W Tungsten': {'temp': 2600, 'rgb': (255, 197, 143)},\n",
       " '100W Tungsten': {'temp': 2850, 'rgb': (255, 214, 170)},\n",
       " 'Halogen': {'temp': 3200, 'rgb': (255, 241, 224)},\n",
       " 'Carbon Arc': {'temp': 5200, 'rgb': (255, 250, 244)},\n",
       " 'High Noon Sun': {'temp': 5400, 'rgb': (255, 255, 251)},\n",
       " 'Direct Sunlight': {'temp': 6000, 'rgb': (255, 255, 255)},\n",
       " 'Overcast Sky': {'temp': 7000, 'rgb': (201, 226, 255)},\n",
       " 'Clear Blue Sky': {'temp': 20000, 'rgb': (64, 156, 255)}}"
      ]
     },
     "metadata": {},
     "output_type": "display_data"
    }
   ],
   "source": [
    "m = Model()\n",
    "# display( m.light_profile(source='Direct Sunlight') )\n",
    "# display( m.light_profile(temp=5200) )\n",
    "display( m.light_profile() )"
   ]
  },
  {
   "cell_type": "code",
   "execution_count": 98,
   "metadata": {},
   "outputs": [
    {
     "name": "stdout",
     "output_type": "stream",
     "text": [
      "\n",
      "Color Profile: Candle\n"
     ]
    },
    {
     "data": {
      "image/png": "[encoded data removed]",
      "text/plain": [
       "<PIL.Image.Image image mode=RGB size=600x400 at 0x255DBAA6BE0>"
      ]
     },
     "metadata": {},
     "output_type": "display_data"
    },
    {
     "name": "stdout",
     "output_type": "stream",
     "text": [
      "\n",
      "Color Profile: 40W Tungsten\n"
     ]
    },
    {
     "data": {
      "image/png": "[encoded data removed]",
      "text/plain": [
       "<PIL.Image.Image image mode=RGB size=600x400 at 0x255DBAA6BE0>"
      ]
     },
     "metadata": {},
     "output_type": "display_data"
    },
    {
     "name": "stdout",
     "output_type": "stream",
     "text": [
      "\n",
      "Color Profile: 100W Tungsten\n"
     ]
    },
    {
     "data": {
      "image/png": "[encoded data removed]",
      "text/plain": [
       "<PIL.Image.Image image mode=RGB size=600x400 at 0x255DBAA6BE0>"
      ]
     },
     "metadata": {},
     "output_type": "display_data"
    },
    {
     "name": "stdout",
     "output_type": "stream",
     "text": [
      "\n",
      "Color Profile: Halogen\n"
     ]
    },
    {
     "data": {
      "image/png": "[encoded data removed]",
      "text/plain": [
       "<PIL.Image.Image image mode=RGB size=600x400 at 0x255DBAA6BE0>"
      ]
     },
     "metadata": {},
     "output_type": "display_data"
    },
    {
     "name": "stdout",
     "output_type": "stream",
     "text": [
      "\n",
      "Color Profile: Carbon Arc\n"
     ]
    },
    {
     "data": {
      "image/png": "[encoded data removed]",
      "text/plain": [
       "<PIL.Image.Image image mode=RGB size=600x400 at 0x255DBAA6BE0>"
      ]
     },
     "metadata": {},
     "output_type": "display_data"
    },
    {
     "name": "stdout",
     "output_type": "stream",
     "text": [
      "\n",
      "Color Profile: High Noon Sun\n"
     ]
    },
    {
     "data": {
      "image/png": "[encoded data removed]",
      "text/plain": [
       "<PIL.Image.Image image mode=RGB size=600x400 at 0x255DBAA6BE0>"
      ]
     },
     "metadata": {},
     "output_type": "display_data"
    },
    {
     "name": "stdout",
     "output_type": "stream",
     "text": [
      "\n",
      "Color Profile: Direct Sunlight\n"
     ]
    },
    {
     "data": {
      "image/png": "[encoded data removed]",
      "text/plain": [
       "<PIL.Image.Image image mode=RGB size=600x400 at 0x255DBAA6BE0>"
      ]
     },
     "metadata": {},
     "output_type": "display_data"
    },
    {
     "name": "stdout",
     "output_type": "stream",
     "text": [
      "\n",
      "Color Profile: Overcast Sky\n"
     ]
    },
    {
     "data": {
      "image/png": "[encoded data removed]",
      "text/plain": [
       "<PIL.Image.Image image mode=RGB size=600x400 at 0x255DBAA6BE0>"
      ]
     },
     "metadata": {},
     "output_type": "display_data"
    },
    {
     "name": "stdout",
     "output_type": "stream",
     "text": [
      "\n",
      "Color Profile: Clear Blue Sky\n"
     ]
    },
    {
     "data": {
      "image/png": "[encoded data removed]",
      "text/plain": [
       "<PIL.Image.Image image mode=RGB size=600x400 at 0x255DBAA6BE0>"
      ]
     },
     "metadata": {},
     "output_type": "display_data"
    }
   ],
   "source": [
    "# Draw the model\n",
    "m.draw_model_sides_top()\n",
    "\n",
    "# Random LED brightness within color profile selection\n",
    "for cp in m.LIGHT_PROFILE:\n",
    "    print(f\"\\nColor Profile: {cp}\")\n",
    "    led_colors = m.led_test_pattern('Range', cp )    \n",
    "    m.draw_model_leds( led_colors ) \n",
    "    display( m.model )\n"
   ]
  },
  {
   "cell_type": "code",
   "execution_count": null,
   "metadata": {},
   "outputs": [],
   "source": []
  },
  {
   "cell_type": "code",
   "execution_count": null,
   "metadata": {},
   "outputs": [],
   "source": []
  },
  {
   "cell_type": "code",
   "execution_count": null,
   "metadata": {},
   "outputs": [],
   "source": []
  },
  {
   "cell_type": "code",
   "execution_count": null,
   "metadata": {},
   "outputs": [],
   "source": []
  },
  {
   "cell_type": "code",
   "execution_count": null,
   "metadata": {},
   "outputs": [],
   "source": [
    "# Create a model\n",
    "m = Model()\n",
    "\n",
    "# Draw the sides and top of the model\n",
    "m.draw_model_sides_top()\n",
    "\n",
    "images = []\n",
    "for p in m2.LIGHT_PROFILE:\n",
    "    rgb = m2.LIGHT_PROFILE[p]['rgb']\n",
    "    hls = rgb_int_to_hls( rgb )\n",
    "    hsv = rgb_int_to_hsv( rgb )\n",
    "    print(f\"Profile: {p} => rgb: {rgb} => hls: ({hls[0]:.3f},{hls[1]:.3f},{hls[2]:.3f}), hsv: ({hsv[0]:.3f},{hsv[1]:.3f},{hsv[2]:.3f})\")\n",
    "\n",
    "    lc = fill_leds( rgb )\n",
    "    m.draw_model_leds( lc )\n",
    "    images.append( m.model.copy() )\n",
    "\n",
    "display_images( images, ms=500, loop=0 )"
   ]
  },
  {
   "cell_type": "code",
   "execution_count": null,
   "metadata": {},
   "outputs": [],
   "source": []
  },
  {
   "cell_type": "code",
   "execution_count": null,
   "metadata": {},
   "outputs": [],
   "source": []
  },
  {
   "cell_type": "code",
   "execution_count": null,
   "metadata": {},
   "outputs": [],
   "source": []
  }
 ],
 "metadata": {
  "interpreter": {
   "hash": "a32e172698e50824da0c33bd5d955f0bc05a5b3df854aad51c6c7dfa51d03fde"
  },
  "kernelspec": {
   "display_name": "Python 3.8.11 ('py38')",
   "language": "python",
   "name": "python3"
  },
  "language_info": {
   "codemirror_mode": {
    "name": "ipython",
    "version": 3
   },
   "file_extension": ".py",
   "mimetype": "text/x-python",
   "name": "python",
   "nbconvert_exporter": "python",
   "pygments_lexer": "ipython3",
   "version": "3.8.11"
  },
  "orig_nbformat": 4
 },
 "nbformat": 4,
 "nbformat_minor": 2
}
