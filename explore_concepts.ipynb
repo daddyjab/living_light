{
 "cells": [
  {
   "cell_type": "markdown",
   "metadata": {},
   "source": [
    "# Explore Concepts needed for Lighting Controller"
   ]
  },
  {
   "cell_type": "code",
   "execution_count": 1,
   "metadata": {},
   "outputs": [],
   "source": [
    "%matplotlib inline\n",
    "\n",
    "import numpy as np\n",
    "from PIL import Image, ImageDraw\n",
    "import matplotlib.pyplot as plt\n",
    "import matplotlib.image as mpimg\n",
    "from IPython.display import HTML\n",
    "from IPython.display import Image as disp_Image"
   ]
  },
  {
   "cell_type": "code",
   "execution_count": 2,
   "metadata": {},
   "outputs": [],
   "source": [
    "def display_images( images=None ):\n",
    "     \"\"\"\n",
    "     Animate a list of images by creating a GIF file\n",
    "     then displaying the resulting GIF file\n",
    "     \"\"\"\n",
    "\n",
    "     # Save options\n",
    "     save_opts = { 'fp':'dev_animated_image.gif', 'format':'GIF' }\n",
    "\n",
    "     # Get the first image and setup for any remaining images\n",
    "     try:\n",
    "          first_img = images[0]\n",
    "          SAVE_MULTI_OPTS = { 'append_images':images[1:], 'save_all':True, 'duration':200, 'loop':0 }\n",
    "          save_opts.update(SAVE_MULTI_OPTS)\n",
    "\n",
    "     except TypeError:\n",
    "          first_img = images\n",
    "\n",
    "     # Save the image to a temp file\n",
    "     first_img.save(**save_opts)\n",
    "\n",
    "     # Display the GIF from the temp file\n",
    "     display( HTML(f'<img src=\\\"{save_opts[\"fp\"]}\\\">') )"
   ]
  },
  {
   "cell_type": "code",
   "execution_count": 6,
   "metadata": {},
   "outputs": [],
   "source": [
    "class Model():\n",
    "    \"\"\"\n",
    "    Class representing the sides and top of the model and their LEDs\n",
    "    \"\"\"\n",
    "    def __init__(self):\n",
    "\n",
    "        # Model Configuration\n",
    "        self.MODEL_INTERIOR_COLOR = 'rgb(128,128,128)'\n",
    "        self.MODEL_OUTLINE_COLOR = 'rgb(0,0,0)'\n",
    "        self.MODEL_CONFIG = {\n",
    "            'Left': {\n",
    "                'bbox': (0,200, 200,400),\n",
    "                'leds': { 'rows': 5, 'cols': 6 }\n",
    "                },\n",
    "\n",
    "            'Right': {\n",
    "                'bbox': (400,200, 600,400),\n",
    "                'leds': { 'rows': 5, 'cols': 6 }\n",
    "                },\n",
    "\n",
    "            'Top': {\n",
    "                'bbox': (200,0, 400,200),\n",
    "                'leds': { 'rows': 2, 'cols': 3 }\n",
    "                }\n",
    "        }\n",
    "\n",
    "        # Model image\n",
    "        self.model = None\n",
    "\n",
    "\n",
    "    def draw_model_sides_top(self):\n",
    "        \"\"\"\n",
    "        Draw the main components of the model: sides, top\n",
    "        \"\"\"\n",
    "        # Create background enclosure for the model\n",
    "        self.model = Image.new( \"RGB\", (600,400), color=(10,10,10) )\n",
    "\n",
    "        # Prepare to draw objects\n",
    "        model_draw = ImageDraw.Draw(self.model)\n",
    "\n",
    "        for c in self.MODEL_CONFIG:\n",
    "            model_draw.rectangle( self.MODEL_CONFIG[c]['bbox'], fill=self.MODEL_INTERIOR_COLOR, outline=self.MODEL_OUTLINE_COLOR )\n",
    "\n",
    "    @staticmethod\n",
    "    def rgb_to_string( rgb:tuple ) -> str:\n",
    "        r, g, b = rgb\n",
    "        return f\"rgb({r},{g},{b})\"\n",
    "\n",
    "\n",
    "    def draw_model_leds(self, led_colors:dict=None ):\n",
    "        \"\"\"\n",
    "        Draw LEDs on the model based upon the configurations\n",
    "        of the model\n",
    "        @TODO: and the color for each LED\n",
    "        \"\"\"\n",
    "\n",
    "        # Prepare to draw objects\n",
    "        model_draw = ImageDraw.Draw(self.model)\n",
    "\n",
    "        # LEDs\n",
    "        def _draw_led( xy, color='rgb(0,0,0)' ):\n",
    "            \"\"\"\n",
    "            Draw one LED\n",
    "            \"\"\"\n",
    "            LED_RADIUS = 5\n",
    "            model_draw.ellipse( [ (xy[0]-LED_RADIUS,xy[1]-LED_RADIUS), (xy[0]+LED_RADIUS,xy[1]+LED_RADIUS)], fill=color, outline='rgb(0,0,0)' )\n",
    "\n",
    "        for c in self.MODEL_CONFIG:\n",
    "\n",
    "            # Determine the width and height of this component\n",
    "            bbox = self.MODEL_CONFIG[c]['bbox']\n",
    "            w = bbox[2] - bbox[0]\n",
    "            h = bbox[3] - bbox[1]\n",
    "\n",
    "            # How many columns and rows of LEDs need to fit in this space\n",
    "            n_cols = self.MODEL_CONFIG[c]['leds']['cols']\n",
    "            n_rows = self.MODEL_CONFIG[c]['leds']['rows']\n",
    "\n",
    "            # Determine the number of pixels per LED,\n",
    "            # Adding 2 to the count so that LEDs will not be placed on an edge\n",
    "            pix_per_col = w // (n_cols + 1)\n",
    "            pix_per_row = h // (n_rows + 1)\n",
    "            # print(c, bbox, w, h, n_cols, n_rows, pix_per_col, pix_per_row)\n",
    "\n",
    "            # Draw the LEDs, starting with index 1 (to avoid an edge)\n",
    "            for col in range(1,n_cols+1):\n",
    "                for row in range(1, n_rows+1):\n",
    "\n",
    "                    # Draw the LED using the specified color\n",
    "                    if led_colors:\n",
    "                        _draw_led( ( pix_per_col*col + bbox[0], pix_per_row*row + bbox[1] ), color=led_colors[c][row-1][col-1] )\n",
    "                    else:\n",
    "                        _draw_led( ( pix_per_col*col + bbox[0], pix_per_row*row + bbox[1] ) )"
   ]
  },
  {
   "cell_type": "code",
   "execution_count": 7,
   "metadata": {},
   "outputs": [
    {
     "data": {
      "image/png": "[encoded data removed]",
      "text/plain": [
       "<PIL.Image.Image image mode=RGB size=600x400 at 0x1F86B24BF10>"
      ]
     },
     "metadata": {},
     "output_type": "display_data"
    }
   ],
   "source": [
    "\n",
    "# Create a model\n",
    "m = Model()\n",
    "\n",
    "# Draw the sides and top of the model\n",
    "m.draw_model_sides_top()\n",
    "\n",
    "# Draw LEDs with default color\n",
    "m.draw_model_leds()\n",
    "\n",
    "# Display the model\n",
    "display( m.model )"
   ]
  },
  {
   "cell_type": "code",
   "execution_count": 8,
   "metadata": {},
   "outputs": [
    {
     "data": {
      "image/png": "[encoded data removed]",
      "text/plain": [
       "<PIL.Image.Image image mode=RGB size=600x400 at 0x1F86B24BF10>"
      ]
     },
     "metadata": {},
     "output_type": "display_data"
    }
   ],
   "source": [
    "# Create arrays representing the LED colors\n",
    "led_cols = {}\n",
    "for c in m.MODEL_CONFIG:\n",
    "    led_cols[c] = np.full( (m.MODEL_CONFIG[c]['leds']['rows'], m.MODEL_CONFIG[c]['leds']['cols']), fill_value=Model.rgb_to_string( (0,128,0) ) ) \n",
    "    # print( c, (m.MODEL_CONFIG[c]['leds']['rows'], m.MODEL_CONFIG[c]['leds']['cols']), '=>', led_cols[c].shape )\n",
    "\n",
    "# Draw and display the resulting model\n",
    "m.draw_model_leds( led_cols )\n",
    "display( m.model )"
   ]
  },
  {
   "cell_type": "code",
   "execution_count": null,
   "metadata": {},
   "outputs": [],
   "source": []
  },
  {
   "cell_type": "code",
   "execution_count": null,
   "metadata": {},
   "outputs": [],
   "source": []
  },
  {
   "cell_type": "code",
   "execution_count": null,
   "metadata": {},
   "outputs": [],
   "source": []
  },
  {
   "cell_type": "code",
   "execution_count": null,
   "metadata": {},
   "outputs": [],
   "source": []
  }
 ],
 "metadata": {
  "interpreter": {
   "hash": "a32e172698e50824da0c33bd5d955f0bc05a5b3df854aad51c6c7dfa51d03fde"
  },
  "kernelspec": {
   "display_name": "Python 3.8.11 ('py38')",
   "language": "python",
   "name": "python3"
  },
  "language_info": {
   "codemirror_mode": {
    "name": "ipython",
    "version": 3
   },
   "file_extension": ".py",
   "mimetype": "text/x-python",
   "name": "python",
   "nbconvert_exporter": "python",
   "pygments_lexer": "ipython3",
   "version": "3.8.11"
  },
  "orig_nbformat": 4
 },
 "nbformat": 4,
 "nbformat_minor": 2
}
