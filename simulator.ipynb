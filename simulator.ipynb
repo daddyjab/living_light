{
 "cells": [
  {
   "cell_type": "markdown",
   "metadata": {},
   "source": [
    "# Explore Concepts needed for Lighting Controller"
   ]
  },
  {
   "cell_type": "code",
   "execution_count": 1,
   "metadata": {},
   "outputs": [],
   "source": [
    "%matplotlib inline\n",
    "\n",
    "import numpy as np\n",
    "from IPython.display import display\n",
    "import time\n",
    "from pprint import pp\n",
    "\n",
    "from model_helper import *\n",
    "from display_helper import *"
   ]
  },
  {
   "cell_type": "markdown",
   "metadata": {},
   "source": [
    "## Light Profiles"
   ]
  },
  {
   "cell_type": "code",
   "execution_count": null,
   "metadata": {},
   "outputs": [],
   "source": [
    "m = Model()\n",
    "print(\"Scenarios:\")\n",
    "display( m.MODEL_SCENARIO_CONFIG)\n",
    "\n",
    "print(\"Color Profiles:\")\n",
    "display( m.COLOR_PROFILE)\n",
    "\n",
    "print(f\"LED Patterns:{m.BRIGHTNESS_PATTERN_FUNCTION.keys()}\" )"
   ]
  },
  {
   "cell_type": "markdown",
   "metadata": {},
   "source": [
    "## Model Configuration"
   ]
  },
  {
   "cell_type": "code",
   "execution_count": null,
   "metadata": {},
   "outputs": [],
   "source": [
    "for c in m.MODEL_CONFIG:\n",
    "    print(f\"\\n'{c}': (rows,cols)=({m.MODEL_CONFIG[c]['leds']['rows']},{m.MODEL_CONFIG[c]['leds']['cols']}) => LED ID array shape: {m.MODEL_CONFIG[c]['led_ids'].shape}\")\n",
    "    print(m.MODEL_CONFIG[c]['led_ids'])"
   ]
  },
  {
   "cell_type": "markdown",
   "metadata": {},
   "source": [
    "## Load/Generate a Scenario"
   ]
  },
  {
   "cell_type": "code",
   "execution_count": 2,
   "metadata": {},
   "outputs": [
    {
     "name": "stdout",
     "output_type": "stream",
     "text": [
      "Scenario 'Idle':\n",
      "=> LED Pattern: 'ellipse', Color Profile '40W Tungsten' => rgb: (255, 197, 143) => hls: (0.080,0.780,1.000))\n",
      "=> Brightness Scale: 0.5, Cycle Time: 4.0\n",
      "=> Timesteps per Cycle: 80.0\n"
     ]
    }
   ],
   "source": [
    "# Create a model\n",
    "m = Model()\n",
    "\n",
    "# Initialize the Light Scenario\n",
    "SCENARIO = 'Idle'\n",
    "m.init_model_scenario(SCENARIO)\n",
    "cp = m.MODEL_SCENARIO_CONFIG[SCENARIO]['color_profile']\n",
    "pat = m.MODEL_SCENARIO_CONFIG[SCENARIO]['led_pattern']\n",
    "rgb = m.COLOR_PROFILE[cp]['rgb']\n",
    "hls = rgb_tuple_to_hls( rgb )\n",
    "\n",
    "print(f\"Scenario '{SCENARIO}':\")\n",
    "print(f\"=> LED Pattern: '{pat}', Color Profile '{cp}' => rgb: {rgb} => hls: ({hls[0]:.3f},{hls[1]:.3f},{hls[2]:.3f}))\")\n",
    "print(f\"=> Brightness Scale: {m.MODEL_SCENARIO_CONFIG[SCENARIO]['brightness_scale']}, Cycle Time: {m.MODEL_SCENARIO_CONFIG[SCENARIO]['cycle_time']}\")\n",
    "\n",
    "# Timesteps per Cycle = Cycle Time [secs/cycle] / LED timestep time [secs/timesteps]\n",
    "t_cycle = float(m.MODEL_SCENARIO_CONFIG[m.scenario]['cycle_time']) / m.LED_TIMESTEP_SEC\n",
    "print(f\"=> Timesteps per Cycle: {t_cycle}\")"
   ]
  },
  {
   "cell_type": "code",
   "execution_count": null,
   "metadata": {},
   "outputs": [],
   "source": []
  },
  {
   "cell_type": "markdown",
   "metadata": {},
   "source": [
    "## Animate the Scenario"
   ]
  },
  {
   "cell_type": "code",
   "execution_count": 3,
   "metadata": {},
   "outputs": [
    {
     "name": "stdout",
     "output_type": "stream",
     "text": [
      "Average LED Update Time: 6.4 ms over 160 timesteps => Total Pattern: 1022.7 ms\n"
     ]
    }
   ],
   "source": [
    "# Draw the sides and top of the model\n",
    "m.draw_model_sides_top()\n",
    "\n",
    "# Draw the LEDs for each color profile and then add them together as a GIF\n",
    "# Baseline Fastest: Avg LED Update Time: 22.0 ms over 80 timesteps => Total Pattern: 1758.2 ms\n",
    "# Pre-allocated LED Array: Average LED Update Time: 20.9 ms over 80 timesteps => Total Pattern: 1675.9 ms\n",
    "# Removed vectorize() for brightness to rgb: Average LED Update Time: 25.2 ms over 80 timesteps => Total Pattern: 2014.1 ms\n",
    "# Using nditer for brightness to rgb: Average LED Update Time: 13.9 ms over 80 timesteps => Total Pattern: 1114.9 ms\n",
    "# Using file: Average LED Update Time: 6.4 ms over 80 timesteps => Total Pattern: 511.1 ms\n",
    "images = []\n",
    "upd_time_sum = 0.0\n",
    "upd_time_count = 0\n",
    "for t in range(2*m.N_LED_PATTERN_TIMESTEPS):\n",
    "    start_time = time.time()\n",
    "    m.update_led_pattern( timestep=t, distance=(0.5,None), proximity={'Entrance':False, 'Exit':False} )\n",
    "    stop_time = time.time()\n",
    "    upd_time_sum += (stop_time - start_time)\n",
    "    upd_time_count += 1\n",
    "\n",
    "    # Append this snapshot of the model at timestep t to a list of images,\n",
    "    # which will be used to build an animated GIF image.\n",
    "    images.append( m.model.copy() )\n",
    "\n",
    "print(f\"Average LED Update Time: {1000.0 * (upd_time_sum / upd_time_count):0.1f} ms over { upd_time_count:,d} timesteps => Total Pattern: { 1000.0*upd_time_sum:0.1f} ms\")\n"
   ]
  },
  {
   "cell_type": "code",
   "execution_count": null,
   "metadata": {},
   "outputs": [],
   "source": [
    "# Display the GIF\n",
    "display_images( images, ms=50, loop=0 )"
   ]
  },
  {
   "cell_type": "code",
   "execution_count": null,
   "metadata": {},
   "outputs": [],
   "source": [
    "# # Compare performance of LED Update Pattern method\n",
    "# # Fastest Run: 20.4 ms ± 206 µs per loop (mean ± std. dev. of 7 runs, 10 loops each)\n",
    "# # Fastest using nditer: 11.8 ms ± 272 µs per loop (mean ± std. dev. of 7 runs, 100 loops each)\n",
    "# # Fastest using file: 6.37 ms ± 263 µs per loop (mean ± std. dev. of 7 runs, 100 loops each)\n",
    "# %timeit m.update_led_pattern( timestep=0 )"
   ]
  },
  {
   "cell_type": "code",
   "execution_count": null,
   "metadata": {},
   "outputs": [],
   "source": [
    "# m.update_led_pattern( timestep=10 )\n",
    "# m.model"
   ]
  },
  {
   "cell_type": "code",
   "execution_count": null,
   "metadata": {},
   "outputs": [],
   "source": []
  },
  {
   "cell_type": "markdown",
   "metadata": {},
   "source": [
    "# Generate All Scenario files"
   ]
  },
  {
   "cell_type": "code",
   "execution_count": 4,
   "metadata": {},
   "outputs": [
    {
     "name": "stdout",
     "output_type": "stream",
     "text": [
      "Scenario 'Idle': Generating LED Pattern Buffer file...  completed.\n",
      "Scenario 'Standard': Generating LED Pattern Buffer file...  completed.\n",
      "Scenario 'Energy': Generating LED Pattern Buffer file...  completed.\n",
      "Scenario 'diag_calibrate_distance': Generating LED Pattern Buffer file...  completed.\n",
      "Scenario 'diag_come_in': Generating LED Pattern Buffer file...  completed.\n",
      "Scenario 'diag_ellipse': Generating LED Pattern Buffer file...  completed.\n",
      "Scenario 'diag_range': Generating LED Pattern Buffer file...  completed.\n",
      "Scenario 'diag_all_on': Generating LED Pattern Buffer file...  completed.\n",
      "Scenario 'diag_all_off': Generating LED Pattern Buffer file...  completed.\n",
      "Scenario 'diag_cp_candle': Generating LED Pattern Buffer file...  completed.\n",
      "Scenario 'diag_cp_40w_tungsten': Generating LED Pattern Buffer file...  completed.\n",
      "Scenario 'diag_cp_100w_tungsten': Generating LED Pattern Buffer file...  completed.\n",
      "Scenario 'diag_cp_halogen': Generating LED Pattern Buffer file...  completed.\n",
      "Scenario 'diag_cp_carbon_arc': Generating LED Pattern Buffer file...  completed.\n",
      "Scenario 'diag_cp_high_noon_sun': Generating LED Pattern Buffer file...  completed.\n",
      "Scenario 'diag_cp_direct_sunlight': Generating LED Pattern Buffer file...  completed.\n",
      "Scenario 'diag_cp_overcast_sky': Generating LED Pattern Buffer file...  completed.\n",
      "Scenario 'diag_cp_clear_blue_sky': Generating LED Pattern Buffer file...  completed.\n"
     ]
    }
   ],
   "source": [
    "for s in m.MODEL_SCENARIO_CONFIG:\n",
    "    print(f\"Scenario '{s}': Generating LED Pattern Buffer file... \", end='')\n",
    "    m.init_model_scenario(s)\n",
    "    print(f\" completed.\")"
   ]
  },
  {
   "cell_type": "code",
   "execution_count": null,
   "metadata": {},
   "outputs": [],
   "source": []
  },
  {
   "cell_type": "code",
   "execution_count": null,
   "metadata": {},
   "outputs": [],
   "source": []
  },
  {
   "cell_type": "code",
   "execution_count": null,
   "metadata": {},
   "outputs": [],
   "source": []
  }
 ],
 "metadata": {
  "interpreter": {
   "hash": "a32e172698e50824da0c33bd5d955f0bc05a5b3df854aad51c6c7dfa51d03fde"
  },
  "kernelspec": {
   "display_name": "Python 3.8.11 ('py38')",
   "language": "python",
   "name": "python3"
  },
  "language_info": {
   "codemirror_mode": {
    "name": "ipython",
    "version": 3
   },
   "file_extension": ".py",
   "mimetype": "text/x-python",
   "name": "python",
   "nbconvert_exporter": "python",
   "pygments_lexer": "ipython3",
   "version": "3.8.11"
  },
  "orig_nbformat": 4
 },
 "nbformat": 4,
 "nbformat_minor": 2
}
